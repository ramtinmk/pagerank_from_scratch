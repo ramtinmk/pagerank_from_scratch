{
  "cells": [
    {
      "cell_type": "markdown",
      "metadata": {
        "id": "view-in-github",
        "colab_type": "text"
      },
      "source": [
        "<a href=\"https://colab.research.google.com/github/ramtinmk/pagerank_from_scratch/blob/main/pagerank.ipynb\" target=\"_parent\"><img src=\"https://colab.research.google.com/assets/colab-badge.svg\" alt=\"Open In Colab\"/></a>"
      ]
    },
    {
      "cell_type": "markdown",
      "metadata": {
        "id": "H0g0-zzOrNlf"
      },
      "source": [
        "# Table of Contents\n",
        "\n",
        "- [abstract](#scrollTo=LKzTY3OktAce&line=9&uniqifier=1)\n",
        "- [**Loading Stanford-Berkley Web Graph Dataset**](#scrollTo=7nDyUii6qSsw&line=1&uniqifier=1)\n",
        "  - [Reducing the Number of Nodes to First 1000 Nodes](#scrollTo=677lIS7vqci_&line=1&uniqifier=1)\n",
        "- [**PageRank Algorithm Implementation**](#scrollTo=DxWJz1Iha4sm&line=2&uniqifier=1)\n",
        "  - [Find Eigenvectors of A](#scrollTo=9z3mLUBHhQdQ)\n",
        "  - [Rewrite Eigenvector Computation Using Power Method](#scrollTo=3X6IanSOjWvw)\n",
        "  - [Use NetworkX to Compute PageRank for Input Data](#scrollTo=4kibJXyDj7s-)\n",
        "  - [Compare NetworkX Results with Our Implementation](#scrollTo=zoGsQP9Mp7Yv&line=1&uniqifier=1)\n",
        "- [**How Changing Alpha Affects the Algorithm**](#scrollTo=L7kQSwf5Kqcz)\n",
        "  - [Influence of Alpha in Terms of Random Walks and Markov Chains](#scrollTo=ljsSShw4uA3g&line=2&uniqifier=1)\n"
      ]
    },
    {
      "cell_type": "markdown",
      "metadata": {
        "id": "LKzTY3OktAce"
      },
      "source": [
        "# Abstract\n",
        "\n",
        "This notebook presents an in-depth exploration of the **PageRank algorithm**, a fundamental method for ranking nodes in a directed graph. Using the **Stanford-Berkley Web Graph Dataset**, we construct an adjacency matrix for a reduced subset of **1000 nodes** and implement **three approaches** to compute PageRank:\n",
        "\n",
        "1. **Eigenvector computation using NumPy**\n",
        "2. **Power method for iterative eigenvector approximation**\n",
        "3. **NetworkX’s built-in PageRank function**\n",
        "\n",
        "We compare the results of these methods and analyze the **effect of the damping factor (alpha)** on PageRank convergence and accuracy. and then we inspect the influence of alpha in the view of random walk of the web graph."
      ]
    },
    {
      "cell_type": "code",
      "execution_count": null,
      "metadata": {
        "id": "ZJW2RL7xlc2i"
      },
      "outputs": [],
      "source": [
        "\n",
        "import numpy as np\n",
        "import networkx as nx\n",
        "import matplotlib.pyplot as plt"
      ]
    },
    {
      "cell_type": "markdown",
      "metadata": {
        "id": "7nDyUii6qSsw"
      },
      "source": [
        "# loading stanford-berkley web graph dataset"
      ]
    },
    {
      "cell_type": "code",
      "execution_count": null,
      "metadata": {
        "colab": {
          "base_uri": "https://localhost:8080/"
        },
        "id": "olayV4czUyaP",
        "outputId": "2c4e11f0-bbcc-437c-ba1c-9041e00ac7fe"
      },
      "outputs": [
        {
          "output_type": "stream",
          "name": "stdout",
          "text": [
            "  % Total    % Received % Xferd  Average Speed   Time    Time     Time  Current\n",
            "                                 Dload  Upload   Total   Spent    Left  Speed\n",
            "100 18.7M  100 18.7M    0     0  7980k      0  0:00:02  0:00:02 --:--:-- 7982k\n"
          ]
        }
      ],
      "source": [
        "!curl -O https://snap.stanford.edu/data/web-BerkStan.txt.gz\n",
        "!gzip -d -f web-BerkStan.txt.gz"
      ]
    },
    {
      "cell_type": "markdown",
      "metadata": {
        "id": "677lIS7vqci_"
      },
      "source": [
        "## reducing the number of nodes to first 1000 nodes"
      ]
    },
    {
      "cell_type": "code",
      "execution_count": null,
      "metadata": {
        "colab": {
          "base_uri": "https://localhost:8080/"
        },
        "id": "WZrNsATtV3dh",
        "outputId": "308676df-326f-499b-a687-fc47802af082"
      },
      "outputs": [
        {
          "output_type": "stream",
          "name": "stdout",
          "text": [
            "Adjacency Matrix Shape: (1001, 1001)\n",
            "[[0 0 0 0 0 0 0 0 0 0]\n",
            " [0 0 0 1 0 0 0 1 0 0]\n",
            " [0 1 0 0 0 1 0 1 1 1]\n",
            " [0 0 0 0 0 0 0 1 0 0]\n",
            " [0 0 0 0 0 0 0 1 0 0]\n",
            " [0 1 0 0 0 0 0 1 1 0]\n",
            " [0 0 0 0 0 0 0 1 0 0]\n",
            " [0 1 1 1 1 1 1 0 1 1]\n",
            " [0 1 0 0 0 1 0 0 0 0]\n",
            " [0 1 1 0 0 1 0 1 1 0]]\n"
          ]
        }
      ],
      "source": [
        "def load_limited_graph_matrix(filename, node_limit=1000):\n",
        "    edges = []\n",
        "\n",
        "    with open(filename, \"r\") as f:\n",
        "        for line in f:\n",
        "            if line.startswith(\"#\"):  # Skip comments\n",
        "                continue\n",
        "            u, v = map(int, line.split())  # Read edge (u -> v)\n",
        "            if u <= node_limit and v <= node_limit:  # Filter nodes\n",
        "                edges.append((u, v))\n",
        "\n",
        "    # Create adjacency matrix for first `node_limit` nodes\n",
        "    adj_matrix = np.zeros((node_limit + 1, node_limit + 1), dtype=np.uint8)\n",
        "\n",
        "    # Fill the matrix\n",
        "    for u, v in edges:\n",
        "        adj_matrix[v, u] = 1  # Directed edge\n",
        "\n",
        "    return adj_matrix\n",
        "\n",
        "# Example usage\n",
        "filename = \"web-BerkStan.txt\"\n",
        "adj_matrix = load_limited_graph_matrix(filename, node_limit=1000)\n",
        "\n",
        "print(\"Adjacency Matrix Shape:\", adj_matrix.shape)\n",
        "print(adj_matrix[:10, :10])  # Print a small part of the matrix\n"
      ]
    },
    {
      "cell_type": "markdown",
      "metadata": {
        "id": "DxWJz1Iha4sm"
      },
      "source": [
        "#1. pagerank algorithm implementation  \n",
        "\n"
      ]
    },
    {
      "cell_type": "code",
      "execution_count": null,
      "metadata": {
        "id": "9jQZsmG6arK5"
      },
      "outputs": [],
      "source": [
        "def calculate_A(adj,alpha=0.8):\n",
        "    # Normalize each column by its sum (size of the column)\n",
        "    column_sums = np.sum(adj, axis=0)\n",
        "    # Avoid division by zero\n",
        "    column_sums[column_sums == 0] = adj.shape[0]  # Replace zero sums with n\n",
        "\n",
        "    Q = adj / column_sums\n",
        "    # Create a copy of Q\n",
        "    P = Q.copy()\n",
        "\n",
        "    # Number of columns in the matrix\n",
        "    n = Q.shape[1]\n",
        "\n",
        "    column_sums = np.sum(P, axis=0)\n",
        "\n",
        "    # Change the 0 columns of Q to 1/n in P.  (No columns are changed in this case)\n",
        "    P[:, np.where(column_sums==0)[0]] = 1/n\n",
        "    e = np.repeat(1.0 / n, n)\n",
        "\n",
        "    A = alpha*P + (1-alpha)*e\n",
        "\n",
        "    return A\n",
        "\n"
      ]
    },
    {
      "cell_type": "code",
      "execution_count": null,
      "metadata": {
        "id": "LmmKH-PofUvF"
      },
      "outputs": [],
      "source": [
        "A = calculate_A(adj_matrix)"
      ]
    },
    {
      "cell_type": "markdown",
      "metadata": {
        "id": "9z3mLUBHhQdQ"
      },
      "source": [
        "## find eigenvectors of A"
      ]
    },
    {
      "cell_type": "code",
      "execution_count": null,
      "metadata": {
        "id": "w8zMNyl3hqcT"
      },
      "outputs": [],
      "source": [
        "eigenvalues, eigenvectors = np.linalg.eig(A)"
      ]
    },
    {
      "cell_type": "code",
      "source": [
        "eigenvalues[0].real"
      ],
      "metadata": {
        "colab": {
          "base_uri": "https://localhost:8080/"
        },
        "id": "7rIq_jY0kvjK",
        "outputId": "3802f94f-94f1-41ad-af17-2581e531a212"
      },
      "execution_count": null,
      "outputs": [
        {
          "output_type": "execute_result",
          "data": {
            "text/plain": [
              "0.9999999999999958"
            ]
          },
          "metadata": {},
          "execution_count": 60
        }
      ]
    },
    {
      "cell_type": "code",
      "execution_count": null,
      "metadata": {
        "colab": {
          "base_uri": "https://localhost:8080/"
        },
        "id": "Lq7i8C1EUJ_2",
        "outputId": "cd65d822-e1c4-43aa-fc16-d1b832166308"
      },
      "outputs": [
        {
          "output_type": "stream",
          "name": "stdout",
          "text": [
            "1.84 s ± 488 ms per loop (mean ± std. dev. of 7 runs, 1 loop each)\n"
          ]
        }
      ],
      "source": [
        "%%timeit\n",
        "_, _= np.linalg.eig(A)\n"
      ]
    },
    {
      "cell_type": "code",
      "execution_count": null,
      "metadata": {
        "colab": {
          "base_uri": "https://localhost:8080/"
        },
        "id": "_oVNG29Mio7m",
        "outputId": "24e4d481-18fe-4b68-af5b-db243034c420"
      },
      "outputs": [
        {
          "output_type": "stream",
          "name": "stdout",
          "text": [
            "\n",
            "Top 20 Node IDs with highest PageRank:\n"
          ]
        },
        {
          "output_type": "execute_result",
          "data": {
            "text/plain": [
              "array([ 40, 768, 861, 927, 372, 743, 257, 935,  33, 968, 804, 945, 715,\n",
              "       720, 924, 721, 296, 330, 198,  24])"
            ]
          },
          "metadata": {},
          "execution_count": 62
        }
      ],
      "source": [
        "def calculate_pagerank(eigvec,eigval):\n",
        "    # Find the eigenvector corresponding to the largest eigenvalue\n",
        "    largest_eigenvalue_index = np.argmax(eigenvalues)\n",
        "    pagerank_vector = eigenvectors[:, largest_eigenvalue_index].real\n",
        "\n",
        "    # Normalize the pagerank vector so its elements sum to 1\n",
        "    pagerank_vector = pagerank_vector / np.sum(pagerank_vector)\n",
        "\n",
        "    return pagerank_vector\n",
        "\n",
        "pagerank_vector = calculate_pagerank(eigenvectors,eigenvalues)\n",
        "\n",
        "# Sort the pagerank vector in descending order and get the indices\n",
        "sorted_indices = np.argsort(pagerank_vector)[::-1]\n",
        "\n",
        "# Get the top N node IDs (e.g., top 10)\n",
        "top_n = 20  # Change this to get a different number of top nodes\n",
        "best_node_ids = sorted_indices[:top_n]\n",
        "\n",
        "print(\"\\nTop\", top_n, \"Node IDs with highest PageRank:\")\n",
        "best_node_ids\n"
      ]
    },
    {
      "cell_type": "code",
      "source": [
        "pagerank_vector[best_node_ids]"
      ],
      "metadata": {
        "colab": {
          "base_uri": "https://localhost:8080/"
        },
        "id": "elTS6sPjeqQa",
        "outputId": "115c712b-c1fb-47e0-e1e0-fbba17b33cd5"
      },
      "execution_count": null,
      "outputs": [
        {
          "output_type": "execute_result",
          "data": {
            "text/plain": [
              "array([0.03539086, 0.03135696, 0.02994036, 0.02554619, 0.01381939,\n",
              "       0.01263716, 0.01212701, 0.01209029, 0.01165416, 0.01146174,\n",
              "       0.01137629, 0.01122044, 0.01083457, 0.0107168 , 0.0107168 ,\n",
              "       0.01066528, 0.01052931, 0.00982932, 0.0075921 , 0.00688408])"
            ]
          },
          "metadata": {},
          "execution_count": 63
        }
      ]
    },
    {
      "cell_type": "markdown",
      "metadata": {
        "id": "3X6IanSOjWvw"
      },
      "source": [
        "## rewrite eigenvector computation using power method\n"
      ]
    },
    {
      "cell_type": "code",
      "execution_count": null,
      "metadata": {
        "colab": {
          "base_uri": "https://localhost:8080/"
        },
        "id": "_Ea1j2gmi9Cj",
        "outputId": "3eff7e3f-559a-476e-ca98-f4d26c6cbbf5"
      },
      "outputs": [
        {
          "output_type": "stream",
          "name": "stdout",
          "text": [
            "Dominant Eigenvalue (Power Method): 0.99999999999997727046\n",
            "Dominant Eigenvector (Power Method): [0.00245785 0.01081359 0.02145502 ... 0.00245785 0.00245785 0.00245785]\n",
            "\n",
            "Top 20 Node IDs with highest PageRank (Power Method):\n",
            "[ 40 768 861 927 372 743 257 935  33 968 804 945 715 924 720 721 296 330\n",
            " 198  24]\n",
            "[0.03539086 0.03135696 0.02994036 0.02554619 0.01381939 0.01263716\n",
            " 0.01212701 0.01209029 0.01165416 0.01146174 0.01137629 0.01122044\n",
            " 0.01083457 0.0107168  0.0107168  0.01066528 0.01052931 0.00982932\n",
            " 0.0075921  0.00688408]\n"
          ]
        }
      ],
      "source": [
        "# prompt: rewrite power method from scratch for A matrix\n",
        "\n",
        "def power_method(A, num_iterations=5000,tol=1e-6):\n",
        "    \"\"\"\n",
        "    Computes the dominant eigenvector of a matrix using the power method.\n",
        "    Args:\n",
        "        A: The input matrix (NumPy array).\n",
        "        num_iterations: The number of iterations to perform.\n",
        "\n",
        "    Returns:\n",
        "        A tuple containing the dominant eigenvalue and its corresponding eigenvector.\n",
        "    \"\"\"\n",
        "    n = A.shape[0]\n",
        "    x = np.random.rand(n).astype(np.float128)\n",
        "    x = x / np.linalg.norm(x)\n",
        "    residual_history = []\n",
        "\n",
        "    for _ in range(num_iterations):\n",
        "        x_new = A @ x\n",
        "        x_new = x_new / np.linalg.norm(x_new)\n",
        "        if np.linalg.norm(x_new - x) < tol:\n",
        "          break\n",
        "        else:\n",
        "          residual_history.append(np.linalg.norm(x_new - x))\n",
        "\n",
        "        x = x_new\n",
        "\n",
        "    eigenvalue = (x.T @ A @ x) / (x.T @ x) # Rayleigh quotient\n",
        "\n",
        "    return eigenvalue, x,np.array(residual_history)\n",
        "\n",
        "\n",
        "def power_method_pipeline(A):\n",
        "\n",
        "    eigenvalue, eigenvector,residual_history = power_method(A,tol=1e-12)\n",
        "\n",
        "\n",
        "    print(\"Dominant Eigenvalue (Power Method):\", eigenvalue)\n",
        "    print(\"Dominant Eigenvector (Power Method):\", eigenvector)\n",
        "\n",
        "    # Normalize the eigenvector and sort as before\n",
        "    pagerank_vector_power = eigenvector / np.sum(eigenvector)\n",
        "\n",
        "    sorted_indices_power = np.argsort(pagerank_vector_power)[::-1]\n",
        "    top_n = 20\n",
        "    best_node_ids_power = sorted_indices_power[:top_n]\n",
        "\n",
        "    print(\"\\nTop\", top_n, \"Node IDs with highest PageRank (Power Method):\")\n",
        "    print(best_node_ids_power)\n",
        "    print(pagerank_vector_power[best_node_ids_power])\n",
        "\n",
        "    return pagerank_vector_power[best_node_ids_power],best_node_ids_power,residual_history\n",
        "\n",
        "pagerank_vector_power,best_node_ids_power,residual_history = power_method_pipeline(A)\n"
      ]
    },
    {
      "cell_type": "code",
      "execution_count": null,
      "metadata": {
        "colab": {
          "base_uri": "https://localhost:8080/"
        },
        "id": "o6w2KdVPUTUq",
        "outputId": "f4fa396e-a588-4518-e574-a3351856dfc6"
      },
      "outputs": [
        {
          "output_type": "stream",
          "name": "stdout",
          "text": [
            "685 ms ± 15.4 ms per loop (mean ± std. dev. of 7 runs, 1 loop each)\n"
          ]
        }
      ],
      "source": [
        "%%timeit\n",
        "eigenvalue, eigenvector,residual_history = power_method(A,tol=1e-12)\n"
      ]
    },
    {
      "cell_type": "code",
      "source": [
        "np.sum(A[A<0])"
      ],
      "metadata": {
        "colab": {
          "base_uri": "https://localhost:8080/"
        },
        "id": "JBt-8c80gMFS",
        "outputId": "ec765e1b-8b3c-4906-ce68-4b6af9ce37db"
      },
      "execution_count": null,
      "outputs": [
        {
          "output_type": "execute_result",
          "data": {
            "text/plain": [
              "0.0"
            ]
          },
          "metadata": {},
          "execution_count": 66
        }
      ]
    },
    {
      "cell_type": "markdown",
      "metadata": {
        "id": "HPqe2d12no56"
      },
      "source": [
        "**plotting residual norm**"
      ]
    },
    {
      "cell_type": "code",
      "execution_count": null,
      "metadata": {
        "id": "7BBFkjrQE1_o",
        "colab": {
          "base_uri": "https://localhost:8080/",
          "height": 472
        },
        "outputId": "678c0ae2-2a88-44dd-c800-fe94e3cb7c3d"
      },
      "outputs": [
        {
          "output_type": "display_data",
          "data": {
            "text/plain": [
              "<Figure size 640x480 with 1 Axes>"
            ],
            "image/png": "[encoded data removed]"
          },
          "metadata": {}
        }
      ],
      "source": [
        "plt.plot(residual_history)\n",
        "plt.xlabel(\"Iteration\")\n",
        "plt.ylabel(\"Residual Norm\")\n",
        "plt.title(\"Residual Norm vs. Iteration\")\n",
        "plt.show()\n"
      ]
    },
    {
      "cell_type": "markdown",
      "metadata": {
        "id": "4kibJXyDj7s-"
      },
      "source": [
        "## use networkx to compute pagerank for input data"
      ]
    },
    {
      "cell_type": "code",
      "execution_count": null,
      "metadata": {
        "colab": {
          "base_uri": "https://localhost:8080/"
        },
        "id": "1oiICnsRkC10",
        "outputId": "a3c1a1d0-821b-4475-c09b-3188d55193c6"
      },
      "outputs": [
        {
          "output_type": "stream",
          "name": "stdout",
          "text": [
            "\n",
            "Top 20 Node IDs with highest PageRank (NetworkX):\n",
            "Node: 40, PageRank: 0.03539090228443072\n",
            "Node: 768, PageRank: 0.03135807666251803\n",
            "Node: 861, PageRank: 0.029934884200386317\n",
            "Node: 927, PageRank: 0.02554714185940218\n",
            "Node: 372, PageRank: 0.013819601121699688\n",
            "Node: 743, PageRank: 0.012637492822028338\n",
            "Node: 257, PageRank: 0.012127121464230214\n",
            "Node: 935, PageRank: 0.012090615615107056\n",
            "Node: 33, PageRank: 0.011654446678630205\n",
            "Node: 968, PageRank: 0.011462043919932382\n",
            "Node: 804, PageRank: 0.01137660892814272\n",
            "Node: 945, PageRank: 0.011220739827072918\n",
            "Node: 715, PageRank: 0.010834861575302114\n",
            "Node: 720, PageRank: 0.010717090479982429\n",
            "Node: 924, PageRank: 0.010717090479982429\n",
            "Node: 721, PageRank: 0.010665565633318311\n",
            "Node: 296, PageRank: 0.010529510885075083\n",
            "Node: 330, PageRank: 0.00982951078045965\n",
            "Node: 198, PageRank: 0.007592219240596845\n",
            "Node: 24, PageRank: 0.006884124207159345\n"
          ]
        }
      ],
      "source": [
        "\n",
        "\n",
        "import networkx as nx\n",
        "\n",
        "# Create a directed graph from the adjacency matrix\n",
        "graph = nx.from_numpy_array(adj_matrix.T, create_using=nx.DiGraph)\n",
        "\n",
        "# Compute PageRank\n",
        "pagerank = nx.pagerank(graph, alpha=0.8,max_iter=1000,tol=1e-8)\n",
        "\n",
        "# Get the top N nodes with the highest PageRank\n",
        "top_n = 20\n",
        "sorted_pagerank = sorted(pagerank.items(), key=lambda item: item[1], reverse=True)\n",
        "top_nodes = sorted_pagerank[:top_n]\n",
        "\n",
        "print(\"\\nTop\", top_n, \"Node IDs with highest PageRank (NetworkX):\")\n",
        "for node, rank in top_nodes:\n",
        "    print(f\"Node: {node}, PageRank: {rank}\")\n",
        "\n",
        "nx_pagerank = np.array([i[1] for i in sorted_pagerank])[:20]\n",
        "nx_topnodes =[i[0] for i in sorted_pagerank]\n",
        "nx_topnodes = np.array(nx_topnodes)[:20]\n"
      ]
    },
    {
      "cell_type": "code",
      "execution_count": null,
      "metadata": {
        "id": "fUzFt4aQJuzK"
      },
      "outputs": [],
      "source": [
        "# def draw_graph(G):\n",
        "#     plt.figure(figsize=(25, 25))\n",
        "#     pos = nx.spring_layout(G)\n",
        "#     nx.draw(G, pos, with_labels=False, node_size=300, arrows=True)\n",
        "#     plt.title(\"Directed Graph from Adjacency Matrix\")\n",
        "#     plt.show()\n",
        "\n",
        "# draw_graph(graph)"
      ]
    },
    {
      "cell_type": "markdown",
      "metadata": {
        "id": "zoGsQP9Mp7Yv"
      },
      "source": [
        "## compare networkx results with our implementation"
      ]
    },
    {
      "cell_type": "markdown",
      "metadata": {
        "id": "A3S8ZiRSJjmk"
      },
      "source": [
        "**checking if all nodes are in correct order in the top 20 nodes**\n"
      ]
    },
    {
      "cell_type": "code",
      "execution_count": null,
      "metadata": {
        "colab": {
          "base_uri": "https://localhost:8080/"
        },
        "id": "utzF-gBmI8F6",
        "outputId": "f59c8a2c-499d-429d-bc71-2c1e2fe62db6"
      },
      "outputs": [
        {
          "output_type": "stream",
          "name": "stdout",
          "text": [
            "True\n",
            "False\n"
          ]
        }
      ],
      "source": [
        "print(np.allclose(best_node_ids==nx_topnodes,np.ones(20))) #.eig method rank\n",
        "print(np.allclose(best_node_ids_power==nx_topnodes,np.ones(20))) #power method ranking (node 924 and 720 are not in correct order because of percision)"
      ]
    },
    {
      "cell_type": "code",
      "execution_count": null,
      "metadata": {
        "colab": {
          "base_uri": "https://localhost:8080/"
        },
        "id": "rDZt9k8rWlbZ",
        "outputId": "144f0b93-6831-4f48-cb0e-4cbc95c3d00a"
      },
      "outputs": [
        {
          "output_type": "execute_result",
          "data": {
            "text/plain": [
              "(array([ 40, 768, 861, 927, 372, 743, 257, 935,  33, 968, 804, 945, 715,\n",
              "        720, 924, 721, 296, 330, 198,  24]),\n",
              " array([ 40, 768, 861, 927, 372, 743, 257, 935,  33, 968, 804, 945, 715,\n",
              "        924, 720, 721, 296, 330, 198,  24]))"
            ]
          },
          "metadata": {},
          "execution_count": 71
        }
      ],
      "source": [
        "nx_topnodes,best_node_ids_power"
      ]
    },
    {
      "cell_type": "markdown",
      "metadata": {
        "id": "s1rks3jXJ55L"
      },
      "source": [
        "**calculating the norm of difference between top 20 nodes pagerank scores**"
      ]
    },
    {
      "cell_type": "code",
      "execution_count": null,
      "metadata": {
        "colab": {
          "base_uri": "https://localhost:8080/"
        },
        "id": "2nrLvAu2k84a",
        "outputId": "ea62fa97-9395-4d98-e00f-2724210021d4"
      },
      "outputs": [
        {
          "output_type": "stream",
          "name": "stdout",
          "text": [
            "5.7605205456699588787e-06\n",
            "5.760520553948028e-06\n"
          ]
        }
      ],
      "source": [
        "print(np.linalg.norm(nx_pagerank-pagerank_vector_power))\n",
        "print(np.linalg.norm(nx_pagerank-pagerank_vector[best_node_ids]))"
      ]
    },
    {
      "cell_type": "markdown",
      "metadata": {
        "id": "L7kQSwf5Kqcz"
      },
      "source": [
        "# how changing alpha effects the algorithm"
      ]
    },
    {
      "cell_type": "code",
      "execution_count": null,
      "metadata": {
        "colab": {
          "base_uri": "https://localhost:8080/",
          "height": 1000
        },
        "id": "UuDQq2DZCZLg",
        "outputId": "aa8bf357-0c17-420f-f511-4fec40e8fefa"
      },
      "outputs": [
        {
          "output_type": "stream",
          "name": "stdout",
          "text": [
            "Dominant Eigenvalue (Power Method): 0.9999999999999176374\n",
            "Dominant Eigenvector (Power Method): [0.02634193 0.0309493  0.03116275 ... 0.02634193 0.02634193 0.02634193]\n",
            "\n",
            "Top 20 Node IDs with highest PageRank (Power Method):\n",
            "[ 40 861 768 372 257 927  24 296 510 330 613 693 460 565 426 743  33 198\n",
            " 233 161]\n",
            "[0.01106892 0.00461092 0.00434856 0.00315297 0.00286252 0.00285418\n",
            " 0.00280799 0.00264139 0.00256341 0.00254239 0.00244325 0.00238006\n",
            " 0.00224917 0.00224401 0.00213643 0.00211453 0.00209267 0.00203854\n",
            " 0.00191524 0.00191051]\n",
            "Alpha: 0.1, Difference in top nodes: 3.8430449709678556e-08\n",
            "Dominant Eigenvalue (Power Method): 1.0000000000000544557\n",
            "Dominant Eigenvector (Power Method): [0.01997819 0.02739544 0.0285063  ... 0.01997819 0.01997819 0.01997819]\n",
            "\n",
            "Top 20 Node IDs with highest PageRank (Power Method):\n",
            "[ 40 861 768 372 927 257  24 296 330 510 613 693 460 565 743  33 426 198\n",
            " 233 161]\n",
            "[0.01983372 0.00770448 0.00767156 0.00512741 0.00485291 0.00456236\n",
            " 0.00436957 0.00414053 0.00394464 0.00391766 0.00368655 0.00356702\n",
            " 0.00333192 0.00331539 0.00330306 0.00323897 0.00310936 0.00301317\n",
            " 0.00277853 0.00276645]\n",
            "Alpha: 0.2, Difference in top nodes: 4.958189782723914e-07\n",
            "Dominant Eigenvalue (Power Method): 0.9999999999999747888\n",
            "Dominant Eigenvector (Power Method): [0.01484667 0.02370752 0.02607133 ... 0.01484667 0.01484667 0.01484667]\n",
            "\n",
            "Top 20 Node IDs with highest PageRank (Power Method):\n",
            "[ 40 768 861 927 372 257  24 296 330 510 613 743 693  33 460 565 198 426\n",
            " 935 968]\n",
            "[0.02724591 0.01100916 0.01043553 0.00705539 0.00694133 0.00611861\n",
            " 0.00566182 0.00551153 0.00522133 0.00505573 0.00472396 0.00457796\n",
            " 0.00455529 0.00444824 0.00424159 0.00420848 0.00392806 0.0039151\n",
            " 0.00383972 0.00383667]\n",
            "Alpha: 0.3, Difference in top nodes: 6.440146188830771e-07\n",
            "Dominant Eigenvalue (Power Method): 0.9999999999998257199\n",
            "Dominant Eigenvector (Power Method): [0.01103218 0.02056581 0.02439286 ... 0.01103218 0.01103218 0.01103218]\n",
            "\n",
            "Top 20 Node IDs with highest PageRank (Power Method):\n",
            "[ 40 768 861 927 372 257 296  24 330 510 743  33 613 693 935 968 460 565\n",
            " 198 945]\n",
            "[0.03319986 0.01442227 0.01296053 0.0095476  0.00860939 0.00754749\n",
            " 0.00676544 0.00666145 0.00638396 0.00596001 0.00595539 0.00573278\n",
            " 0.0055397  0.0053299  0.00510313 0.00506148 0.00496337 0.00490929\n",
            " 0.0047869  0.00462656]\n",
            "Alpha: 0.4, Difference in top nodes: 1.2522700180601018e-06\n",
            "Dominant Eigenvalue (Power Method): 1.0000000000000317308\n",
            "Dominant Eigenvector (Power Method): [0.00815582 0.01790552 0.02335899 ... 0.00815582 0.00815582 0.00815582]\n",
            "\n",
            "Top 20 Node IDs with highest PageRank (Power Method):\n",
            "[ 40 768 861 927 372 257 296 743 330  24  33 510 935 968 613 945 693 804\n",
            " 715 198]\n",
            "[0.03750025 0.01800173 0.01548398 0.01245154 0.01014122 0.0088614\n",
            " 0.0079084  0.00745367 0.0074392  0.0073401  0.00710585 0.00659573\n",
            " 0.00655926 0.00644668 0.00610211 0.0059984  0.0058608  0.0057878\n",
            " 0.00561241 0.00559137]\n",
            "Alpha: 0.5, Difference in top nodes: 7.392501072880694e-07\n",
            "Dominant Eigenvalue (Power Method): 0.999999999999929396\n",
            "Dominant Eigenvector (Power Method): [0.00589833 0.0155348  0.02274763 ... 0.00589833 0.00589833 0.00589833]\n",
            "\n",
            "Top 20 Node IDs with highest PageRank (Power Method):\n",
            "[ 40 768 861 927 372 257 743 296  33 330 935 968  24 945 804 715 720 924\n",
            " 721 510]\n",
            "[0.03980173 0.02188415 0.01836151 0.01593867 0.01153872 0.01006793\n",
            " 0.00908858 0.00893867 0.00857667 0.00838599 0.00822831 0.00800183\n",
            " 0.00765761 0.00758056 0.00744677 0.00717761 0.00711824 0.00711824\n",
            " 0.00709216 0.00690011]\n",
            "Alpha: 0.6, Difference in top nodes: 1.863769357711796e-06\n",
            "Dominant Eigenvalue (Power Method): 1.000000000000119212\n",
            "Dominant Eigenvector (Power Method): [0.00404491 0.01325308 0.02228228 ... 0.00404491 0.00404491 0.00404491]\n",
            "\n",
            "Top 20 Node IDs with highest PageRank (Power Method):\n",
            "[ 40 768 861 927 372 257 743  33 935 296 968 945 804 330 715 924 720 721\n",
            "  24 198]\n",
            "[0.03948642 0.02626773 0.02239475 0.0202363  0.01278713 0.01116573\n",
            " 0.01085389 0.01013138 0.01010863 0.00983698 0.00971305 0.00936041\n",
            " 0.00934936 0.00920633 0.00895747 0.00887165 0.00887165 0.00883404\n",
            " 0.00754796 0.00701982]\n",
            "Alpha: 0.7, Difference in top nodes: 4.363075897165545e-06\n",
            "Dominant Eigenvalue (Power Method): 1.0000000000000229199\n",
            "Dominant Eigenvector (Power Method): [0.00245785 0.01081359 0.02145502 ... 0.00245785 0.00245785 0.00245785]\n",
            "\n",
            "Top 20 Node IDs with highest PageRank (Power Method):\n",
            "[ 40 768 861 927 372 743 257 935  33 968 804 945 715 924 720 721 296 330\n",
            " 198  24]\n",
            "[0.03539086 0.03135696 0.02994036 0.02554619 0.01381939 0.01263716\n",
            " 0.01212701 0.01209029 0.01165416 0.01146174 0.01137629 0.01122044\n",
            " 0.01083457 0.0107168  0.0107168  0.01066528 0.01052931 0.00982932\n",
            " 0.0075921  0.00688408]\n",
            "Alpha: 0.8, Difference in top nodes: 1.1509837664698262e-05\n",
            "Dominant Eigenvalue (Power Method): 0.9999999999997833357\n",
            "Dominant Eigenvector (Power Method): [0.0010609  0.00765779 0.0185864  ... 0.0010609  0.0010609  0.0010609 ]\n",
            "\n",
            "Top 20 Node IDs with highest PageRank (Power Method):\n",
            "[861 768 927  40 372 743 935 804 257 968  33 945 715 924 720 721 296 813\n",
            " 867 864]\n",
            "[0.05138413 0.03643043 0.03110465 0.02509884 0.01429331 0.01373169\n",
            " 0.01345677 0.01281763 0.01278433 0.01256565 0.01248314 0.01247642\n",
            " 0.01213503 0.01198771 0.01198771 0.01192338 0.01066073 0.01056302\n",
            " 0.01041224 0.01022007]\n",
            "Alpha: 0.9, Difference in top nodes: 2.3485052099268757e-05\n"
          ]
        },
        {
          "output_type": "display_data",
          "data": {
            "text/plain": [
              "<Figure size 800x600 with 1 Axes>"
            ],
            "image/png": "[encoded data removed]"
          },
          "metadata": {}
        }
      ],
      "source": [
        "\n",
        "\n",
        "alpha_values = np.linspace(0.1, 0.9, 9)  # Example alpha values\n",
        "pagerank_differences = []\n",
        "\n",
        "for alpha in alpha_values:\n",
        "    # Compute PageRank using NetworkX with the current alpha\n",
        "    pagerank = nx.pagerank(graph, alpha=alpha, max_iter=1000, tol=1e-8)\n",
        "    # Get the top N nodes with the highest PageRank\n",
        "    top_n = 20\n",
        "    sorted_pagerank = sorted(pagerank.items(), key=lambda item: item[1], reverse=True)\n",
        "    top_nodes_nx = [node for node, rank in sorted_pagerank[:top_n]]\n",
        "    top_ranks_nx = [rank for node, rank in sorted_pagerank[:top_n]]\n",
        "\n",
        "    # Compute PageRank using your power method with the current alpha\n",
        "    A = calculate_A(adj_matrix,alpha=alpha)\n",
        "    pagerank_vector_power,_,_ = power_method_pipeline(A)\n",
        "\n",
        "    # Calculate the difference in top node rankings\n",
        "    difference = np.sum(np.abs(np.array(top_ranks_nx) - np.array(pagerank_vector_power)))\n",
        "    pagerank_differences.append(difference)\n",
        "\n",
        "    print(f\"Alpha: {alpha:.1f}, Difference in top nodes: {difference}\")\n",
        "\n",
        "# Plot the results\n",
        "plt.figure(figsize=(8, 6))\n",
        "plt.plot(alpha_values, pagerank_differences, marker='o')\n",
        "plt.xlabel(\"Alpha Value\")\n",
        "plt.ylabel(\"Difference in Top 20 Node Rankings (Power method vs NetworkX)\")\n",
        "plt.title(\"Influence of Alpha on PageRank Top Node Rankings\")\n",
        "plt.grid(True)\n",
        "plt.show()\n"
      ]
    },
    {
      "cell_type": "markdown",
      "metadata": {
        "id": "E3Z_16VAM8_j"
      },
      "source": [
        "When the norm of the rank differences increases with alpha, it can be an indication that the power method is facing more numerical challenges. Here are a few points to consider:\n",
        "\n",
        "- Spectral Gap Reduction:\n",
        "\n",
        "  As alpha increases, the damping factor approaches 1, which means the matrix you're applying the power method to becomes closer to a rank-one perturbation of the original stochastic matrix. This typically reduces the spectral gap (the difference between the dominant eigenvalue and the second-largest eigenvalue), making convergence slower and more sensitive to numerical errors.\n",
        "\n",
        "- Sensitivity to Perturbations:\n",
        "\n",
        "  A smaller spectral gap means that any numerical inaccuracies (round-off errors, for example) can have a larger impact on the computed eigenvector. This may lead to discrepancies in the ranking of nodes when compared to a more robust implementation (like NetworkX's PageRank).\n",
        "\n",
        "- Method Implementation Differences:\n",
        "\n",
        "  NetworkX's built-in PageRank likely incorporates additional stabilization techniques or optimized numerical methods that can mitigate these issues. Thus, if you see an increased norm of differences in rankings for higher alpha values, it might suggest that your power method implementation is less robust under these conditions.\n",
        "\n",
        "So, while the increased difference norm doesn't definitively prove that the power method is \"less numerically stable\" overall, it does suggest that its performance and accuracy are more sensitive at higher alpha values due to the inherent properties of the underlying matrix. Adjusting convergence tolerances, improving the numerical precision, or using alternative methods could help mitigate these effects."
      ]
    },
    {
      "cell_type": "markdown",
      "metadata": {
        "id": "ljsSShw4uA3g"
      },
      "source": [
        "## Influence of Alpha in Terms of Random Walks and Markov Chains\n",
        "\n",
        "The damping factor **alpha (α)** in the PageRank algorithm controls the balance between two behaviors in a **random walk** interpretation:\n",
        "\n",
        "1. **Following a link (with probability α):**  \n",
        "   A web surfer randomly follows an outgoing link from the current node.\n",
        "   \n",
        "2. **Jumping to a random node (with probability 1 - α):**  \n",
        "   Instead of following a link, the surfer randomly teleports to any node in the graph.\n",
        "\n",
        "From a **Markov chain perspective**, the PageRank matrix **A** is a modified transition matrix where teleportation ensures the chain remains **ergodic (irreducible and aperiodic)**, guaranteeing convergence to a unique stationary distribution.  \n",
        "\n",
        "### Effect of Increasing Alpha:\n",
        "\n",
        "- As **α → 1**, the Markov chain behaves more like a **pure random walk**, relying primarily on the link structure. This increases the influence of **highly connected subgraphs**, leading to slower convergence (due to a smaller spectral gap).\n",
        "- As **α → 0**, the Markov chain increasingly **resembles a uniform random jump process**, making PageRank values more evenly distributed across nodes.\n",
        "- A **higher α reduces the mixing rate** of the Markov chain, meaning it takes longer for the random walk to stabilize to its stationary distribution. This explains why the **power method's convergence slows down for large α**, and small numerical errors can accumulate over iterations.\n",
        "\n",
        "### Trade-offs in Choosing Alpha:\n",
        "\n",
        "- A typical value of **α = 0.85** is chosen in practice, as it maintains a good balance between **following the link structure** and **ensuring convergence**.\n",
        "- Lower values of α can reduce the effect of link spam and increase numerical stability but may dilute the importance of highly connected nodes.\n",
        "- Higher values of α make rankings more dependent on link structures but increase the risk of slow convergence and numerical instability.\n",
        "\n",
        "This connection to **random walks and Markov chains** helps explain why the norm of ranking differences **increases with α**, as seen in the experiments. The reduced spectral gap at high α values makes the power method more sensitive to perturbations, leading to greater deviations in ranking results compared to the more stable NetworkX implementation.\n"
      ]
    },
    {
      "cell_type": "markdown",
      "source": [
        "**Question 2**"
      ],
      "metadata": {
        "id": "UCSYJOOw3twv"
      }
    },
    {
      "cell_type": "code",
      "source": [
        "G = nx.DiGraph()\n",
        "edges = [\n",
        "    (\"A1\", \"A2\"),\n",
        "    (\"D1\", \"D2\"),\n",
        "    (\"D1\", \"A2\"),\n",
        "    (\"A2\", \"E2\"),\n",
        "    (\"A2\", \"A3\"),\n",
        "    (\"E2\", \"E1\"),\n",
        "    (\"E1\", \"A3\"),\n",
        "    (\"E1\", \"E2\"),\n",
        "    (\"E2\", \"B2\"),\n",
        "    (\"B1\", \"E2\"),\n",
        "    (\"E3\", \"E2\"),\n",
        "    (\"E3\", \"B2\"),\n",
        "    (\"B1\", \"B2\"),\n",
        "    (\"B2\", \"B3\"),\n",
        "    (\"D2\", \"B3\"),\n",
        "]\n",
        "\n",
        "G.add_edges_from(edges)\n",
        "# Draw graph\n",
        "plt.figure(figsize=(10, 6))\n",
        "pos = nx.spring_layout(G, seed=42)\n",
        "\n",
        "nx.draw(G, pos, with_labels=True, node_size=800, node_color=\"lightgreen\", font_size=14, font_weight='bold', arrowsize=20, edge_color=\"dodgerblue\")\n",
        "plt.title(\"Graph Visualization\")\n",
        "plt.show()"
      ],
      "metadata": {
        "id": "z-KU2ZM7MnVy",
        "colab": {
          "base_uri": "https://localhost:8080/",
          "height": 659
        },
        "outputId": "6d19cb27-4651-4c06-b8f7-f0f253a66785"
      },
      "execution_count": null,
      "outputs": [
        {
          "output_type": "display_data",
          "data": {
            "text/plain": [
              "<Figure size 1000x600 with 1 Axes>"
            ],
            "image/png": "[encoded data removed]"
          },
          "metadata": {}
        }
      ]
    },
    {
      "cell_type": "code",
      "source": [
        "nodelist=[\"A1\", \"A2\", \"A3\", \"B1\", \"B2\", \"B3\", \"E1\", \"E2\", \"D1\", \"D2\"]\n",
        "matrix = nx.to_numpy_array(G, nodelist).T\n",
        "print(matrix)\n",
        "G = nx.from_numpy_array(matrix.T, create_using=nx.DiGraph)"
      ],
      "metadata": {
        "colab": {
          "base_uri": "https://localhost:8080/"
        },
        "id": "954VzJjyTCNM",
        "outputId": "c296ff27-0861-4e55-f07f-5ed28fa7bccc"
      },
      "execution_count": null,
      "outputs": [
        {
          "output_type": "stream",
          "name": "stdout",
          "text": [
            "[[0. 0. 0. 0. 0. 0. 0. 0. 0. 0.]\n",
            " [1. 0. 0. 0. 0. 0. 0. 0. 1. 0.]\n",
            " [0. 1. 0. 0. 0. 0. 1. 0. 0. 0.]\n",
            " [0. 0. 0. 0. 0. 0. 0. 0. 0. 0.]\n",
            " [0. 0. 0. 1. 0. 0. 0. 1. 0. 0.]\n",
            " [0. 0. 0. 0. 1. 0. 0. 0. 0. 1.]\n",
            " [0. 0. 0. 0. 0. 0. 0. 1. 0. 0.]\n",
            " [0. 1. 0. 1. 0. 0. 1. 0. 0. 0.]\n",
            " [0. 0. 0. 0. 0. 0. 0. 0. 0. 0.]\n",
            " [0. 0. 0. 0. 0. 0. 0. 0. 1. 0.]]\n"
          ]
        }
      ]
    },
    {
      "cell_type": "code",
      "source": [
        "A1 = calculate_A(matrix)\n",
        "print(A1.shape)\n",
        "res,ids,_ = power_method_pipeline(A1)\n",
        "print(res)\n",
        "\n",
        "best_node_names = [nodelist[i] for i in ids]\n",
        "best_node_names"
      ],
      "metadata": {
        "colab": {
          "base_uri": "https://localhost:8080/"
        },
        "id": "yNvohS67TPlE",
        "outputId": "de85fefa-b3bd-43af-cd72-b9007c310528"
      },
      "execution_count": null,
      "outputs": [
        {
          "output_type": "stream",
          "name": "stdout",
          "text": [
            "(10, 10)\n",
            "Dominant Eigenvalue (Power Method): 1.0000000000001918167\n",
            "Dominant Eigenvector (Power Method): [0.13100788 0.28821734 0.36557438 0.13100788 0.35060205 0.55821835\n",
            " 0.2981989  0.41797753 0.13100788 0.18341104]\n",
            "\n",
            "Top 20 Node IDs with highest PageRank (Power Method):\n",
            "[5 7 2 4 6 1 9 8 3 0]\n",
            "[0.19550778 0.14639049 0.12803706 0.12279322 0.10443978 0.10094389\n",
            " 0.06423702 0.04588359 0.04588359 0.04588359]\n",
            "[0.19550778 0.14639049 0.12803706 0.12279322 0.10443978 0.10094389\n",
            " 0.06423702 0.04588359 0.04588359 0.04588359]\n"
          ]
        },
        {
          "output_type": "execute_result",
          "data": {
            "text/plain": [
              "['B3', 'E2', 'A3', 'B2', 'E1', 'A2', 'D2', 'D1', 'B1', 'A1']"
            ]
          },
          "metadata": {},
          "execution_count": 116
        }
      ]
    },
    {
      "cell_type": "code",
      "source": [
        "pagerank = nx.pagerank(G, alpha=0.8,max_iter=1000,tol=1e-8)\n",
        "\n",
        "\n",
        "sorted_pagerank = sorted(pagerank.items(), key=lambda item: item[1], reverse=True)\n",
        "top_nodes = sorted_pagerank[:]\n",
        "\n",
        "print(\"Node IDs sort based on highest PageRank:\")\n",
        "top_nodes"
      ],
      "metadata": {
        "colab": {
          "base_uri": "https://localhost:8080/"
        },
        "id": "eAnsQwkAU2Ku",
        "outputId": "ff728e1f-ee9d-4697-e34b-baffbcfa3134"
      },
      "execution_count": null,
      "outputs": [
        {
          "output_type": "stream",
          "name": "stdout",
          "text": [
            "Node IDs sort based on highest PageRank:\n"
          ]
        },
        {
          "output_type": "execute_result",
          "data": {
            "text/plain": [
              "[(5, 0.19550777853358578),\n",
              " (7, 0.14639049071456486),\n",
              " (2, 0.128037055356986),\n",
              " (4, 0.12279321818264563),\n",
              " (6, 0.10443978282506677),\n",
              " (1, 0.1009438926641037),\n",
              " (9, 0.06423702194894595),\n",
              " (0, 0.045883586591367105),\n",
              " (3, 0.045883586591367105),\n",
              " (8, 0.045883586591367105)]"
            ]
          },
          "metadata": {},
          "execution_count": 117
        }
      ]
    }
  ],
  "metadata": {
    "colab": {
      "provenance": [],
      "include_colab_link": true
    },
    "kernelspec": {
      "display_name": "Python 3",
      "name": "python3"
    },
    "language_info": {
      "name": "python"
    }
  },
  "nbformat": 4,
  "nbformat_minor": 0
}